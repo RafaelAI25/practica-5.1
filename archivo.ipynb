{
 "cells": [
  {
   "cell_type": "code",
   "execution_count": 4,
   "metadata": {},
   "outputs": [],
   "source": [
    "\n",
    "import pandas as pd\n",
    "import matplotlib.pyplot as plt\n",
    "import seaborn as sns\n",
    "from typing import Dict\n",
    "import numpy as np\n"
   ]
  },
  {
   "cell_type": "code",
   "execution_count": 11,
   "metadata": {},
   "outputs": [],
   "source": [
    "def cargar_datos(datos_biosanitarios_sinteticos: str) -> pd.DataFrame:\n",
    "    \"\"\" Carga los datos desde un archivo CSV y maneja posibles errores \"\"\"\n",
    "    try:\n",
    "        df = pd.read_csv(datos_biosanitarios_sinteticos)\n",
    "        print(\"Datos cargados exitosamente\")\n",
    "        return df\n",
    "    except Exception as e:\n",
    "        print(f\"Error al cargar los datos: {e}\")\n",
    "        return None\n",
    "    \n",
    "    \n"
   ]
  },
  {
   "cell_type": "code",
   "execution_count": 13,
   "metadata": {},
   "outputs": [],
   "source": [
    "def realizar_analisis_exploratorio(df: pd.DataFrame) -> None: \n",
    "    \"\"\" Realiza y muestra un análisis exploratorio básico del dataset \"\"\" \n",
    "    print(\"\\n=== ANÁLISIS EXPLORATORIO INICIAL ===\") \n",
    "    \n",
    "    print(\"\\nInformación del Dataset:\") \n",
    "    print(df.info()) # Muestra tipos de datos y valores no nulos \n",
    "    \n",
    "    print(\"\\nEstadísticas Descriptivas:\") \n",
    "    print(df.describe()) # Estadísticas numéricas básicas\n",
    "    \n",
    "    print(\"\\nValores Nulos por Columna:\") \n",
    "    print(df.isnull().sum()) # Identifica datos faltantes"
   ]
  },
  {
   "cell_type": "code",
   "execution_count": 15,
   "metadata": {},
   "outputs": [],
   "source": [
    "def analizar_demograficos(df: pd.DataFrame) -> None: \n",
    "    \"\"\" Analiza y visualiza la distribución demográfica de los pacientes \"\"\" \n",
    "    print(\"\\n=== ANÁLISIS DEMOGRÁFICO ===\") \n",
    "    \n",
    "    # Distribución por sexo\n",
    "    print(\"\\nDistribución por Sexo:\") \n",
    "    print(df['Sex'].value_counts())\n",
    "    \n",
    "    # Distribución por edad \n",
    "    print(\"\\nEstadísticas de Edad:\") \n",
    "    print(df['Age'].describe()) \n",
    "    \n",
    "    # Visualización de la distribución de edad \n",
    "    plt.figure(figsize=(10, 6)) \n",
    "    sns.histplot(data=df, x='Age', bins=30) \n",
    "    plt.title('Distribución de Edad de los Pacientes') \n",
    "    plt.xlabel('Edad') \n",
    "    plt.ylabel('Frecuencia') \n",
    "    plt.show()"
   ]
  }
 ],
 "metadata": {
  "kernelspec": {
   "display_name": "actividades_evaluables",
   "language": "python",
   "name": "python3"
  },
  "language_info": {
   "codemirror_mode": {
    "name": "ipython",
    "version": 3
   },
   "file_extension": ".py",
   "mimetype": "text/x-python",
   "name": "python",
   "nbconvert_exporter": "python",
   "pygments_lexer": "ipython3",
   "version": "3.12.9"
  }
 },
 "nbformat": 4,
 "nbformat_minor": 2
}
