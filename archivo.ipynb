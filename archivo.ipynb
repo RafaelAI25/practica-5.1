{
 "cells": [
  {
   "cell_type": "code",
   "execution_count": 23,
   "metadata": {},
   "outputs": [],
   "source": [
    "\n",
    "import pandas as pd\n",
    "import matplotlib.pyplot as plt\n",
    "import seaborn as sns\n",
    "from typing import Dict\n",
    "import numpy as np\n"
   ]
  },
  {
   "cell_type": "code",
   "execution_count": 24,
   "metadata": {},
   "outputs": [],
   "source": [
    "def cargar_datos(datos_biosanitarios_sinteticos: str) -> pd.DataFrame:\n",
    "    \"\"\" Carga los datos desde un archivo CSV y maneja posibles errores \"\"\"\n",
    "    try:\n",
    "        df = pd.read_csv(datos_biosanitarios_sinteticos)\n",
    "        print(\"Datos cargados exitosamente\")\n",
    "        return df\n",
    "    except Exception as e:\n",
    "        print(f\"Error al cargar los datos: {e}\")\n",
    "        return None\n",
    "    \n",
    "    \n"
   ]
  },
  {
   "cell_type": "code",
   "execution_count": 25,
   "metadata": {},
   "outputs": [],
   "source": [
    "def realizar_analisis_exploratorio(df: pd.DataFrame) -> None: \n",
    "    \"\"\" Realiza y muestra un análisis exploratorio básico del dataset \"\"\" \n",
    "    print(\"\\n=== ANÁLISIS EXPLORATORIO INICIAL ===\") \n",
    "    \n",
    "    print(\"\\nInformación del Dataset:\") \n",
    "    print(df.info()) # Muestra tipos de datos y valores no nulos \n",
    "    \n",
    "    print(\"\\nEstadísticas Descriptivas:\") \n",
    "    print(df.describe()) # Estadísticas numéricas básicas\n",
    "    \n",
    "    print(\"\\nValores Nulos por Columna:\") \n",
    "    print(df.isnull().sum()) # Identifica datos faltantes"
   ]
  },
  {
   "cell_type": "code",
   "execution_count": 26,
   "metadata": {},
   "outputs": [],
   "source": [
    "def analizar_demograficos(df: pd.DataFrame) -> None: \n",
    "    \"\"\" Analiza y visualiza la distribución demográfica de los pacientes \"\"\" \n",
    "    print(\"\\n=== ANÁLISIS DEMOGRÁFICO ===\") \n",
    "    \n",
    "    # Distribución por sexo\n",
    "    print(\"\\nDistribución por Sexo:\") \n",
    "    print(df['Sex'].value_counts())\n",
    "    \n",
    "    # Distribución por edad \n",
    "    print(\"\\nEstadísticas de Edad:\") \n",
    "    print(df['Age'].describe()) \n",
    "    \n",
    "    # Visualización de la distribución de edad \n",
    "    plt.figure(figsize=(10, 6)) \n",
    "    sns.histplot(data=df, x='Age', bins=30) \n",
    "    plt.title('Distribución de Edad de los Pacientes') \n",
    "    plt.xlabel('Edad') \n",
    "    plt.ylabel('Frecuencia') \n",
    "    plt.show()"
   ]
  },
  {
   "cell_type": "code",
   "execution_count": null,
   "metadata": {},
   "outputs": [],
   "source": [
    "def analizar_condiciones_clinicas(df: pd.DataFrame) -> None: \n",
    "   \n",
    "    \"\"\" Analiza la prevalencia de síntomas y marcadores bioquímicos \"\"\" \n",
    "    print(\"\\n=== ANÁLISIS DE CONDICIONES CLÍNICAS ===\") \n",
    "    \n",
    "    # Análisis de síntomas \n",
    "    sintomas = ['Ascites', 'Hepatomegaly', 'Spiders', 'Edema'] \n",
    "    for sintoma in sintomas: \n",
    "        print(f\"\\nDistribución de {sintoma}:\") \n",
    "        print(df[sintoma].value_counts()) \n",
    "        \n",
    "    # Análisis de marcadores bioquímicos \n",
    "    marcadores = ['Bilirubin', 'Cholesterol', 'Albumin', 'Copper', 'Alk_Phos', 'SGOT'] \n",
    "    print(\"\\nEstadísticas de Marcadores Bioquímicos:\")\n",
    "    print(df[marcadores].describe())"
   ]
  },
  {
   "cell_type": "code",
   "execution_count": 28,
   "metadata": {},
   "outputs": [],
   "source": [
    "def analizar_tratamientos(df: pd.DataFrame) -> None: \n",
    "    \n",
    "    \"\"\" Analiza los tratamientos aplicados y sus resultados \"\"\" \n",
    "    print(\"\\n=== ANÁLISIS DE TRATAMIENTOS Y RESULTADOS ===\") \n",
    "    \n",
    "    # Distribución de medicamentos \n",
    "    print(\"\\nDistribución de Medicamentos:\") \n",
    "    print(df['Drug'].value_counts()) \n",
    "    \n",
    "    # Análisis de estado (Status) \n",
    "    print(\"\\nDistribución de Estado:\") \n",
    "    print(df['Status'].value_counts()) \n",
    "    \n",
    "    # Análisis por etapa \n",
    "    print(\"\\nDistribución por Etapa:\") \n",
    "    print(df['Stage'].value_counts())"
   ]
  },
  {
   "cell_type": "code",
   "execution_count": 29,
   "metadata": {},
   "outputs": [],
   "source": [
    "def crear_visualizaciones(df: pd.DataFrame) -> None: \n",
    "    \"\"\" Crea visualizaciones avanzadas para análisis detallado \"\"\"\n",
    "    \n",
    "    # Matriz de correlación\n",
    "    variables_numericas = ['Age', 'Bilirubin', 'Cholesterol',\n",
    "                           'Albumin', 'Copper', 'Alk_Phos', 'SGOT', \n",
    "                           'Tryglicerides', 'Platelets', 'Prothrombin'] \n",
    "    plt.figure(figsize=(12, 8)) \n",
    "    sns.heatmap(df[variables_numericas].corr(), annot=True, cmap='coolwarm', center=0) \n",
    "    plt.title('Matriz de Correlación de Variables Numéricas') \n",
    "    plt.xticks(rotation=45) \n",
    "    plt.yticks(rotation=45) \n",
    "    plt.tight_layout()\n",
    "    plt.show()\n",
    "    \n",
    "    # Distribución de etapas por medicamento \n",
    "    plt.figure(figsize=(10, 6)) \n",
    "    sns.boxplot(data=df, x='Drug', y='Stage') \n",
    "    plt.title('Distribución de Etapas por Medicamento') \n",
    "    plt.xticks(rotation=45) \n",
    "    plt.tight_layout() \n",
    "    plt.show()"
   ]
  },
  {
   "cell_type": "code",
   "execution_count": 31,
   "metadata": {},
   "outputs": [
    {
     "name": "stdout",
     "output_type": "stream",
     "text": [
      "Error al cargar los datos: [Errno 2] No such file or directory: 'datos_biosanitarios_sinteticos'\n"
     ]
    }
   ],
   "source": [
    "def main(): \n",
    "    #Cargar los datos \n",
    "    df = cargar_datos('datos_biosanitarios_sinteticos') \n",
    "    \n",
    "    if df is not None: \n",
    "        realizar_analisis_exploratorio(df) \n",
    "        analizar_demograficos(df) \n",
    "        analizar_condiciones_clinicas(df) \n",
    "        analizar_tratamientos(df) \n",
    "        crear_visualizaciones(df) \n",
    "\n",
    "if __name__ == \"__main__\": \n",
    "    main()"
   ]
  },
  {
   "cell_type": "code",
   "execution_count": null,
   "metadata": {},
   "outputs": [],
   "source": []
  },
  {
   "cell_type": "code",
   "execution_count": null,
   "metadata": {},
   "outputs": [],
   "source": []
  }
 ],
 "metadata": {
  "kernelspec": {
   "display_name": "actividades_evaluables",
   "language": "python",
   "name": "python3"
  },
  "language_info": {
   "codemirror_mode": {
    "name": "ipython",
    "version": 3
   },
   "file_extension": ".py",
   "mimetype": "text/x-python",
   "name": "python",
   "nbconvert_exporter": "python",
   "pygments_lexer": "ipython3",
   "version": "3.12.9"
  }
 },
 "nbformat": 4,
 "nbformat_minor": 2
}
